{
 "cells": [
  {
   "cell_type": "code",
   "execution_count": 7,
   "metadata": {},
   "outputs": [],
   "source": [
    "import pandas as pd\n",
    "import matplotlib.pyplot as plt\n",
    "import numpy as np\n",
    "import seaborn as sns\n",
    "import warnings\n",
    "warnings.filterwarnings('ignore')"
   ]
  },
  {
   "cell_type": "code",
   "execution_count": 6,
   "metadata": {},
   "outputs": [],
   "source": [
    "# Part 1\n",
    "data = pd.read_csv('Instagram-Reach.csv')\n",
    "\n",
    "# Convert to DateTime\n",
    "data['Date'] = pd.to_datetime(data['Date'])\n",
    "\n",
    "# Get Days of week and group by week\n",
    "data['Day'] = data['Date'].dt.day_name()\n",
    "dataDay = data.groupby('Day')\n",
    "d30 = data[:30] # 30 days data"
   ]
  },
  {
   "cell_type": "code",
   "execution_count": null,
   "metadata": {},
   "outputs": [],
   "source": [
    "# Data Info\n",
    "data.head() # Checks for first 5 columns\n",
    "data.isnull().sum()\n",
    "data.describe()\n",
    "data.info()"
   ]
  },
  {
   "cell_type": "code",
   "execution_count": 20,
   "metadata": {},
   "outputs": [],
   "source": [
    "# Line Plot\n",
    "data.plot('Date', 'Instagram reach', title='Instagram Reach over Time')"
   ]
  },
  {
   "cell_type": "code",
   "execution_count": 22,
   "metadata": {},
   "outputs": [],
   "source": [
    "# Bar plot\n",
    "data.plot.bar('Date', 'Instagram reach', title='Instagram Reach over Time')"
   ]
  },
  {
   "cell_type": "code",
   "execution_count": 24,
   "metadata": {},
   "outputs": [],
   "source": [
    "# Box Plot\n",
    "data.plot.box(title='Instagram Reach over Time')"
   ]
  },
  {
   "cell_type": "code",
   "execution_count": null,
   "metadata": {},
   "outputs": [],
   "source": [
    "# Mean for Weekly Grouped Data\n",
    "print(\"Mean: \")\n",
    "print(data.groupby('Day').mean())\n",
    "print(\"\\nMedian: \")\n",
    "print(data.groupby('Day').median())\n",
    "print(\"\\nStandard Deviation: \")\n",
    "print(data.groupby('Day').std())\n"
   ]
  },
  {
   "cell_type": "code",
   "execution_count": null,
   "metadata": {},
   "outputs": [],
   "source": [
    "# Bar Plot per Week Day\n",
    "dataDay.plot.bar(x='Day', y='Instagram reach', title='Instagram Reach over Time')"
   ]
  },
  {
   "cell_type": "code",
   "execution_count": null,
   "metadata": {},
   "outputs": [],
   "source": [
    "# Bar Plot per Weekday combined for 30 days\n",
    "sns.catplot(\n",
    "    x=\"Date\",       # x variable name\n",
    "    y=\"Instagram reach\",       # y variable name\n",
    "    hue=\"Day\",  # group variable name\n",
    "    data=d30,     # dataframe to plot\n",
    "    kind=\"bar\",\n",
    ")"
   ]
  }
 ],
 "metadata": {
  "kernelspec": {
   "display_name": "py8",
   "language": "python",
   "name": "python3"
  },
  "language_info": {
   "codemirror_mode": {
    "name": "ipython",
    "version": 3
   },
   "file_extension": ".py",
   "mimetype": "text/x-python",
   "name": "python",
   "nbconvert_exporter": "python",
   "pygments_lexer": "ipython3",
   "version": "3.8.19"
  }
 },
 "nbformat": 4,
 "nbformat_minor": 2
}
