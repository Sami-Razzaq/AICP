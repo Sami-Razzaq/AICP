{
 "cells": [
  {
   "cell_type": "code",
   "execution_count": 2,
   "metadata": {},
   "outputs": [],
   "source": [
    "import pandas as pd\n",
    "import matplotlib.pyplot as plt\n",
    "import numpy as np\n",
    "\n",
    "import warnings\n",
    "warnings.filterwarnings('ignore')"
   ]
  },
  {
   "cell_type": "code",
   "execution_count": 8,
   "metadata": {},
   "outputs": [],
   "source": [
    "# Part 1\n",
    "data = pd.read_csv('Instagram-Reach.csv')\n",
    "\n",
    "# Convert to DateTime\n",
    "data['Date'] = pd.to_datetime(data['Date'])\n",
    "\n",
    "# Get Days of week and group by week\n",
    "data['Day'] = data['Date'].dt.dayofweek\n",
    "data['Day'] = data['Day'].map({0: 'Monday', 1: 'Tuesday', 2: 'Wednesday', 3: 'Thursday', 4: 'Friday', 5: 'Saturday', 6: 'Sunday'})\n",
    "dataDay = data.groupby('Day')"
   ]
  },
  {
   "cell_type": "code",
   "execution_count": null,
   "metadata": {},
   "outputs": [],
   "source": [
    "# Data Info\n",
    "data.head() # Checks for first 5 columns\n",
    "data.isnull().sum()\n",
    "data.describe()\n",
    "data.info()"
   ]
  },
  {
   "cell_type": "code",
   "execution_count": 20,
   "metadata": {},
   "outputs": [],
   "source": [
    "# Line Plot\n",
    "data.plot('Date', 'Instagram reach', title='Instagram Reach over Time')"
   ]
  },
  {
   "cell_type": "code",
   "execution_count": 22,
   "metadata": {},
   "outputs": [],
   "source": [
    "# Bar plot\n",
    "data.plot.bar('Date', 'Instagram reach', title='Instagram Reach over Time')"
   ]
  },
  {
   "cell_type": "code",
   "execution_count": 24,
   "metadata": {},
   "outputs": [],
   "source": [
    "# Box Plot\n",
    "data.plot.box(title='Instagram Reach over Time')"
   ]
  },
  {
   "cell_type": "code",
   "execution_count": 15,
   "metadata": {},
   "outputs": [
    {
     "name": "stdout",
     "output_type": "stream",
     "text": [
      "Mean: \n",
      "                         Date  Instagram reach\n",
      "Day                                           \n",
      "Friday    2022-09-30 00:00:00     46666.849057\n",
      "Monday    2022-09-29 12:00:00     52621.692308\n",
      "Saturday  2022-09-27 12:00:00     47374.750000\n",
      "Sunday    2022-09-28 12:00:00     53114.173077\n",
      "Thursday  2022-10-02 12:00:00     48570.923077\n",
      "Tuesday   2022-09-30 12:00:00     54030.557692\n",
      "Wednesday 2022-10-01 12:00:00     51017.269231\n",
      "\n",
      "Median: \n",
      "                         Date  Instagram reach\n",
      "Day                                           \n",
      "Friday    2022-09-30 00:00:00          35574.0\n",
      "Monday    2022-09-29 12:00:00          46853.0\n",
      "Saturday  2022-09-27 12:00:00          40012.0\n",
      "Sunday    2022-09-28 12:00:00          47797.0\n",
      "Thursday  2022-10-02 12:00:00          39150.0\n",
      "Tuesday   2022-09-30 12:00:00          48786.0\n",
      "Wednesday 2022-10-01 12:00:00          42320.5\n",
      "\n",
      "Standard Deviation: \n",
      "                                 Date  Instagram reach\n",
      "Day                                                   \n",
      "Friday    108 days 02:29:55.663903406     29856.943036\n",
      "Monday    106 days 01:59:57.172034128     32296.071347\n",
      "Saturday  106 days 01:59:57.172034128     27667.043634\n",
      "Sunday    106 days 01:59:57.172034128     30906.162384\n",
      "Thursday  106 days 01:59:57.172034128     28623.220625\n",
      "Tuesday   106 days 01:59:57.172034128     32503.726482\n",
      "Wednesday 106 days 01:59:57.172034128     29047.869685\n"
     ]
    }
   ],
   "source": [
    "# Mean for Weekly Grouped Data\n",
    "print(\"Mean: \")\n",
    "print(data.groupby('Day').mean())\n",
    "print(\"\\nMedian: \")\n",
    "print(data.groupby('Day').median())\n",
    "print(\"\\nStandard Deviation: \")\n",
    "print(data.groupby('Day').std())\n"
   ]
  },
  {
   "cell_type": "code",
   "execution_count": null,
   "metadata": {},
   "outputs": [],
   "source": [
    "# Bar Plot per Week Day\n",
    "dataDay.plot.bar(x='Day', y='Instagram reach', title='Instagram Reach over Time')"
   ]
  }
 ],
 "metadata": {
  "kernelspec": {
   "display_name": "py8",
   "language": "python",
   "name": "python3"
  },
  "language_info": {
   "codemirror_mode": {
    "name": "ipython",
    "version": 3
   },
   "file_extension": ".py",
   "mimetype": "text/x-python",
   "name": "python",
   "nbconvert_exporter": "python",
   "pygments_lexer": "ipython3",
   "version": "3.8.19"
  }
 },
 "nbformat": 4,
 "nbformat_minor": 2
}
